{
  "cells": [
    {
      "cell_type": "markdown",
      "metadata": {
        "colab_type": "text",
        "id": "PSAdJCiUcwAC"
      },
      "source": [
        "## Import library & facenet-pytorch model"
      ]
    },
    {
      "cell_type": "code",
      "execution_count": null,
      "metadata": {
        "colab": {
          "base_uri": "https://localhost:8080/",
          "height": 139
        },
        "colab_type": "code",
        "id": "VplAT1MTH1Sv",
        "outputId": "2defc041-e92b-45c6-f9af-18f306f91529"
      },
      "outputs": [
        {
          "name": "stdout",
          "output_type": "stream",
          "text": [
            "Cloning into 'facenet-pytorch'...\n",
            "remote: Enumerating objects: 38, done.\u001b[K\n",
            "remote: Counting objects: 100% (38/38), done.\u001b[K\n",
            "remote: Compressing objects: 100% (35/35), done.\u001b[K\n",
            "remote: Total 1181 (delta 16), reused 10 (delta 2), pack-reused 1143\u001b[K\n",
            "Receiving objects: 100% (1181/1181), 22.61 MiB | 3.77 MiB/s, done.\n",
            "Resolving deltas: 100% (566/566), done.\n"
          ]
        }
      ],
      "source": [
        "!git clone https://github.com/timesler/facenet-pytorch.git\n",
        "!mv ./facenet-pytorch/models .\n",
        "from models.inception_resnet_v1 import InceptionResnetV1"
      ]
    },
    {
      "cell_type": "code",
      "execution_count": null,
      "metadata": {
        "colab": {
          "base_uri": "https://localhost:8080/",
          "height": 69
        },
        "colab_type": "code",
        "id": "dOdxdyqDTSjY",
        "outputId": "25491f35-7001-4e46-fcec-5d1843b455a4"
      },
      "outputs": [
        {
          "name": "stdout",
          "output_type": "stream",
          "text": [
            "'Donald Trump'\t'Emma Watson'\t   'Narendra Modi'    'Unknow Face'\n",
            "'Elon Musk'\t'Geoffrey Hinton'  'Priyanka Chopra'  'Will Smith'\n",
            "'Emma Stone'\t'Hrithik Roshan'   'Tom Cruise'\n"
          ]
        }
      ],
      "source": [
        "! ls ./drive/My\\ Drive/Colab\\ Notebooks/E4P2S4_Face_reco/Dataset/"
      ]
    },
    {
      "cell_type": "code",
      "execution_count": null,
      "metadata": {
        "colab": {},
        "colab_type": "code",
        "id": "iegazDOOMF5L"
      },
      "outputs": [],
      "source": [
        "from torch import nn, optim, as_tensor\n",
        "import torchvision\n",
        "from torch.utils.data import Dataset, DataLoader\n",
        "import torch.nn.functional as F\n",
        "from torch.optim import lr_scheduler\n",
        "from torch.nn.init import *\n",
        "from torchvision import transforms, utils, datasets, models\n",
        "from models.inception_resnet_v1 import InceptionResnetV1\n",
        "import cv2\n",
        "from PIL import Image\n",
        "from pdb import set_trace\n",
        "import time\n",
        "import copy\n",
        "from pathlib import Path\n",
        "import os\n",
        "import sys\n",
        "import matplotlib.pyplot as plt\n",
        "import matplotlib.animation as animation\n",
        "from skimage import io, transform\n",
        "from tqdm import trange, tqdm\n",
        "import csv\n",
        "import glob\n",
        "import dlib\n",
        "import pandas as pd\n",
        "import numpy as np\n",
        "from torchsummary import summary\n"
      ]
    },
    {
      "cell_type": "code",
      "execution_count": null,
      "metadata": {
        "colab": {},
        "colab_type": "code",
        "id": "lzqD_ClkN8GM"
      },
      "outputs": [],
      "source": [
        "num_classes = 11  "
      ]
    },
    {
      "cell_type": "markdown",
      "metadata": {
        "colab_type": "text",
        "id": "7IchZo5AH8AV"
      },
      "source": [
        "## Model"
      ]
    },
    {
      "cell_type": "code",
      "execution_count": null,
      "metadata": {
        "colab": {},
        "colab_type": "code",
        "id": "KIIHmWwXG8gC"
      },
      "outputs": [],
      "source": [
        "device = \"cuda\"\n",
        "model = InceptionResnetV1(pretrained='vggface2', classify=True, num_classes = num_classes).to(device)\n",
        "model.logits.out_features = num_classes\n",
        "# summary(model,(3,224,224))"
      ]
    },
    {
      "cell_type": "code",
      "execution_count": null,
      "metadata": {
        "colab": {
          "base_uri": "https://localhost:8080/",
          "height": 589
        },
        "colab_type": "code",
        "id": "0u65kSkTbFIJ",
        "outputId": "8ba0c0f2-a189-4d12-a5b1-5a43113be7c2"
      },
      "outputs": [
        {
          "name": "stdout",
          "output_type": "stream",
          "text": [
            "\n",
            "Freezed layer except below childs/layers \n",
            "\n",
            "Block8(\n",
            "  (branch0): BasicConv2d(\n",
            "    (conv): Conv2d(1792, 192, kernel_size=(1, 1), stride=(1, 1), bias=False)\n",
            "    (bn): BatchNorm2d(192, eps=0.001, momentum=0.1, affine=True, track_running_stats=True)\n",
            "    (relu): ReLU()\n",
            "  )\n",
            "  (branch1): Sequential(\n",
            "    (0): BasicConv2d(\n",
            "      (conv): Conv2d(1792, 192, kernel_size=(1, 1), stride=(1, 1), bias=False)\n",
            "      (bn): BatchNorm2d(192, eps=0.001, momentum=0.1, affine=True, track_running_stats=True)\n",
            "      (relu): ReLU()\n",
            "    )\n",
            "    (1): BasicConv2d(\n",
            "      (conv): Conv2d(192, 192, kernel_size=(1, 3), stride=(1, 1), padding=(0, 1), bias=False)\n",
            "      (bn): BatchNorm2d(192, eps=0.001, momentum=0.1, affine=True, track_running_stats=True)\n",
            "      (relu): ReLU()\n",
            "    )\n",
            "    (2): BasicConv2d(\n",
            "      (conv): Conv2d(192, 192, kernel_size=(3, 1), stride=(1, 1), padding=(1, 0), bias=False)\n",
            "      (bn): BatchNorm2d(192, eps=0.001, momentum=0.1, affine=True, track_running_stats=True)\n",
            "      (relu): ReLU()\n",
            "    )\n",
            "  )\n",
            "  (conv2d): Conv2d(384, 1792, kernel_size=(1, 1), stride=(1, 1))\n",
            ")\n",
            "AdaptiveAvgPool2d(output_size=1)\n",
            "Dropout(p=0.6, inplace=False)\n",
            "Linear(in_features=1792, out_features=512, bias=False)\n",
            "BatchNorm1d(512, eps=0.001, momentum=0.1, affine=True, track_running_stats=True)\n",
            "Linear(in_features=512, out_features=11, bias=True)\n"
          ]
        }
      ],
      "source": [
        "total_child = len(list(model.children()))\n",
        "ct = 0\n",
        "print(\"\\nFreezed layer except below childs/layers \\n\")\n",
        "\n",
        "for child in model.children():\n",
        "  ct += 1\n",
        "  if ct < total_child - 5:\n",
        "    for param in child.parameters():\n",
        "        param.requires_grad = False\n",
        "  else:\n",
        "    print(child)\n",
        "\n",
        "# https://discuss.pytorch.org/t/how-the-pytorch-freeze-network-in-some-layers-only-the-rest-of-the-training/7088/2 "
      ]
    },
    {
      "cell_type": "code",
      "execution_count": null,
      "metadata": {
        "colab": {
          "base_uri": "https://localhost:8080/",
          "height": 35
        },
        "colab_type": "code",
        "id": "3uvVCIOvbNFB",
        "outputId": "1d9e75e6-3d11-486a-d867-4967dc96b88a"
      },
      "outputs": [
        {
          "name": "stdout",
          "output_type": "stream",
          "text": [
            "requires_grad value set to early layer: False\n"
          ]
        }
      ],
      "source": [
        "for param in model.conv2d_3b.parameters():\n",
        "  a = 0 #do nothing\n",
        "print(\"requires_grad value set to early layer:\",param.requires_grad)"
      ]
    },
    {
      "cell_type": "code",
      "execution_count": null,
      "metadata": {
        "colab": {},
        "colab_type": "code",
        "id": "1SMsoMXEZIL2"
      },
      "outputs": [],
      "source": [
        "# summary(model,(3,224,224))"
      ]
    },
    {
      "cell_type": "markdown",
      "metadata": {
        "colab_type": "text",
        "id": "0k3F5PafbZPr"
      },
      "source": [
        "## Dataset & Transforms"
      ]
    },
    {
      "cell_type": "code",
      "execution_count": null,
      "metadata": {
        "colab": {},
        "colab_type": "code",
        "id": "HhpDXv_ydK1g"
      },
      "outputs": [],
      "source": [
        "train_transforms =transforms.Compose([\n",
        "        transforms.Resize(size=(224, 224),interpolation=2),\n",
        "        transforms.RandomHorizontalFlip(),\n",
        "        transforms.ToTensor(),\n",
        "        transforms.Normalize(mean=[0.485, 0.456, 0.406],std=[0.229, 0.224, 0.225])   # Normalized value \n",
        "    ])"
      ]
    },
    {
      "cell_type": "code",
      "execution_count": null,
      "metadata": {
        "colab": {},
        "colab_type": "code",
        "id": "LyPgLAJTdPhB"
      },
      "outputs": [],
      "source": [
        "!rm -rf .ipynb_checkpoints */.ipynb_checkpoints */*/.ipynb_checkpoints    #delete hidden file before creating dataset"
      ]
    },
    {
      "cell_type": "code",
      "execution_count": null,
      "metadata": {
        "colab": {},
        "colab_type": "code",
        "id": "jYnRowjibd1F"
      },
      "outputs": [],
      "source": [
        "traindir = './drive/My Drive/Colab Notebooks/E4P2S4_Face_reco/Dataset'\n",
        "\n",
        "train_dataset = torchvision.datasets.ImageFolder(traindir,transform= train_transforms)"
      ]
    },
    {
      "cell_type": "code",
      "execution_count": null,
      "metadata": {
        "colab": {
          "base_uri": "https://localhost:8080/",
          "height": 72
        },
        "colab_type": "code",
        "id": "rMm3y0RkT_9B",
        "outputId": "26e8ce2d-931f-4c1d-946c-260ab1e75254"
      },
      "outputs": [
        {
          "name": "stdout",
          "output_type": "stream",
          "text": [
            "total class 11\n",
            "class name ['Donald Trump', 'Elon Musk', 'Emma Stone', 'Emma Watson', 'Geoffrey Hinton', 'Hrithik Roshan', 'Narendra Modi', 'Priyanka Chopra', 'Tom Cruise', 'Unknow Face', 'Will Smith']\n"
          ]
        }
      ],
      "source": [
        "print(\"total class\", len(train_dataset.classes))\n",
        "print(\"class name\", train_dataset.classes)"
      ]
    },
    {
      "cell_type": "code",
      "execution_count": null,
      "metadata": {
        "colab": {},
        "colab_type": "code",
        "id": "5RF0_93lb6VP"
      },
      "outputs": [],
      "source": []
    },
    {
      "cell_type": "markdown",
      "metadata": {
        "colab_type": "text",
        "id": "d0tWiQbPcbFc"
      },
      "source": [
        "## Dataloader with sampler"
      ]
    },
    {
      "cell_type": "code",
      "execution_count": null,
      "metadata": {
        "colab": {},
        "colab_type": "code",
        "id": "HpVvb616PptB"
      },
      "outputs": [],
      "source": [
        "# Handling imbalance dataset throguh sampler\n",
        "\n",
        "def make_weights_for_balanced_classes(images, nclasses):                        \n",
        "    count = [0] * nclasses                                                      \n",
        "    for item in images:                                                         \n",
        "        count[item[1]] += 1                                                     \n",
        "    weight_per_class = [0.] * nclasses                                      \n",
        "    N = float(sum(count))                                                   \n",
        "    for i in range(nclasses):               \n",
        "        weight_per_class[i] = N/float(count[i])                                 \n",
        "    weight = [0] * len(images)                                              \n",
        "    for idx, val in enumerate(images):                                          \n",
        "        weight[idx] = weight_per_class[val[1]]                                  \n",
        "    return weight  \n",
        "\n",
        "weights = make_weights_for_balanced_classes(train_dataset.imgs, len(train_dataset.classes))                                                                \n",
        "weights = torch.DoubleTensor(weights)                                       \n",
        "sampler = torch.utils.data.sampler.WeightedRandomSampler(weights, len(weights))   # provide a weight value for each sample in dataset\n",
        "\n",
        "#ref: https://discuss.pytorch.org/t/balanced-sampling-between-classes-with-torchvision-dataloader/2703/3"
      ]
    },
    {
      "cell_type": "code",
      "execution_count": null,
      "metadata": {
        "colab": {
          "base_uri": "https://localhost:8080/",
          "height": 35
        },
        "colab_type": "code",
        "id": "ELKKFBUHgRbj",
        "outputId": "db9cdbc4-fb1a-4731-b3af-de361c58ce97"
      },
      "outputs": [
        {
          "data": {
            "text/plain": [
              "<torch.utils.data.sampler.WeightedRandomSampler at 0x7febfe848550>"
            ]
          },
          "execution_count": 15,
          "metadata": {
            "tags": []
          },
          "output_type": "execute_result"
        }
      ],
      "source": []
    },
    {
      "cell_type": "code",
      "execution_count": null,
      "metadata": {
        "colab": {
          "base_uri": "https://localhost:8080/",
          "height": 35
        },
        "colab_type": "code",
        "id": "wcRaqULIOxao",
        "outputId": "39eb8309-3ed0-4c42-855c-4949e47f2683"
      },
      "outputs": [
        {
          "name": "stdout",
          "output_type": "stream",
          "text": [
            "total train dataset: 1032\n"
          ]
        }
      ],
      "source": [
        "train_loader = DataLoader(train_dataset, batch_size=32  , sampler=sampler)\n",
        "print(\"total train dataset:\",len(train_dataset))"
      ]
    },
    {
      "cell_type": "markdown",
      "metadata": {
        "colab_type": "text",
        "id": "-KbF-XUCclzt"
      },
      "source": [
        "## Training"
      ]
    },
    {
      "cell_type": "code",
      "execution_count": null,
      "metadata": {
        "colab": {
          "base_uri": "https://localhost:8080/",
          "height": 745
        },
        "colab_type": "code",
        "id": "ob93CxWAPSls",
        "outputId": "f9516d97-c8f7-4cab-dcad-e2094a463ad2"
      },
      "outputs": [
        {
          "name": "stderr",
          "output_type": "stream",
          "text": [
            "\r  0%|          | 0/33 [00:00<?, ?it/s]"
          ]
        },
        {
          "name": "stdout",
          "output_type": "stream",
          "text": [
            "EPOCH: 0\n"
          ]
        },
        {
          "name": "stderr",
          "output_type": "stream",
          "text": [
            "Loss=0.002485201694071293 Batch_id=32 Accuracy=90.21: 100%|██████████| 33/33 [06:11<00:00, 11.25s/it]\n",
            "  0%|          | 0/33 [00:00<?, ?it/s]"
          ]
        },
        {
          "name": "stdout",
          "output_type": "stream",
          "text": [
            "EPOCH: 1\n"
          ]
        },
        {
          "name": "stderr",
          "output_type": "stream",
          "text": [
            "Loss=0.28860339522361755 Batch_id=32 Accuracy=98.84: 100%|██████████| 33/33 [02:05<00:00,  3.79s/it]\n",
            "  0%|          | 0/33 [00:00<?, ?it/s]"
          ]
        },
        {
          "name": "stdout",
          "output_type": "stream",
          "text": [
            "EPOCH: 2\n"
          ]
        },
        {
          "name": "stderr",
          "output_type": "stream",
          "text": [
            "Loss=0.0021674116142094135 Batch_id=32 Accuracy=99.22: 100%|██████████| 33/33 [01:06<00:00,  2.02s/it]\n",
            "  0%|          | 0/33 [00:00<?, ?it/s]"
          ]
        },
        {
          "name": "stdout",
          "output_type": "stream",
          "text": [
            "EPOCH: 3\n"
          ]
        },
        {
          "name": "stderr",
          "output_type": "stream",
          "text": [
            "Loss=0.0015028446214273572 Batch_id=32 Accuracy=99.52: 100%|██████████| 33/33 [01:09<00:00,  2.11s/it]\n",
            "  0%|          | 0/33 [00:00<?, ?it/s]"
          ]
        },
        {
          "name": "stdout",
          "output_type": "stream",
          "text": [
            "EPOCH: 4\n"
          ]
        },
        {
          "name": "stderr",
          "output_type": "stream",
          "text": [
            "Loss=0.0017783294897526503 Batch_id=32 Accuracy=100.00: 100%|██████████| 33/33 [00:58<00:00,  1.77s/it]\n",
            "  0%|          | 0/33 [00:00<?, ?it/s]"
          ]
        },
        {
          "name": "stdout",
          "output_type": "stream",
          "text": [
            "EPOCH: 5\n"
          ]
        },
        {
          "name": "stderr",
          "output_type": "stream",
          "text": [
            "Loss=0.008524655364453793 Batch_id=32 Accuracy=99.90: 100%|██████████| 33/33 [01:00<00:00,  1.83s/it]\n",
            "  0%|          | 0/33 [00:00<?, ?it/s]"
          ]
        },
        {
          "name": "stdout",
          "output_type": "stream",
          "text": [
            "EPOCH: 6\n"
          ]
        },
        {
          "name": "stderr",
          "output_type": "stream",
          "text": [
            "Loss=0.0005431412137113512 Batch_id=32 Accuracy=99.90: 100%|██████████| 33/33 [00:38<00:00,  1.18s/it]\n",
            "  0%|          | 0/33 [00:00<?, ?it/s]"
          ]
        },
        {
          "name": "stdout",
          "output_type": "stream",
          "text": [
            "EPOCH: 7\n"
          ]
        },
        {
          "name": "stderr",
          "output_type": "stream",
          "text": [
            "Loss=0.004237240646034479 Batch_id=32 Accuracy=99.90: 100%|██████████| 33/33 [00:52<00:00,  1.60s/it]\n",
            "  0%|          | 0/33 [00:00<?, ?it/s]"
          ]
        },
        {
          "name": "stdout",
          "output_type": "stream",
          "text": [
            "EPOCH: 8\n"
          ]
        },
        {
          "name": "stderr",
          "output_type": "stream",
          "text": [
            "Loss=0.0002782988012768328 Batch_id=32 Accuracy=100.00: 100%|██████████| 33/33 [00:40<00:00,  1.22s/it]\n",
            "  0%|          | 0/33 [00:00<?, ?it/s]"
          ]
        },
        {
          "name": "stdout",
          "output_type": "stream",
          "text": [
            "EPOCH: 9\n"
          ]
        },
        {
          "name": "stderr",
          "output_type": "stream",
          "text": [
            "Loss=0.00012831126514356583 Batch_id=32 Accuracy=100.00: 100%|██████████| 33/33 [00:41<00:00,  1.26s/it]\n",
            "  0%|          | 0/33 [00:00<?, ?it/s]"
          ]
        },
        {
          "name": "stdout",
          "output_type": "stream",
          "text": [
            "EPOCH: 10\n"
          ]
        },
        {
          "name": "stderr",
          "output_type": "stream",
          "text": [
            "Loss=0.009239031933248043 Batch_id=32 Accuracy=100.00: 100%|██████████| 33/33 [00:34<00:00,  1.04s/it]\n",
            "  0%|          | 0/33 [00:00<?, ?it/s]"
          ]
        },
        {
          "name": "stdout",
          "output_type": "stream",
          "text": [
            "EPOCH: 11\n"
          ]
        },
        {
          "name": "stderr",
          "output_type": "stream",
          "text": [
            "Loss=0.027035977691411972 Batch_id=32 Accuracy=100.00: 100%|██████████| 33/33 [00:35<00:00,  1.08s/it]\n",
            "  0%|          | 0/33 [00:00<?, ?it/s]"
          ]
        },
        {
          "name": "stdout",
          "output_type": "stream",
          "text": [
            "EPOCH: 12\n"
          ]
        },
        {
          "name": "stderr",
          "output_type": "stream",
          "text": [
            "Loss=6.229569407878444e-05 Batch_id=32 Accuracy=100.00: 100%|██████████| 33/33 [00:27<00:00,  1.20it/s]\n",
            "  0%|          | 0/33 [00:00<?, ?it/s]"
          ]
        },
        {
          "name": "stdout",
          "output_type": "stream",
          "text": [
            "EPOCH: 13\n"
          ]
        },
        {
          "name": "stderr",
          "output_type": "stream",
          "text": [
            "Loss=0.0006569724064320326 Batch_id=32 Accuracy=99.90: 100%|██████████| 33/33 [00:37<00:00,  1.13s/it]\n",
            "  0%|          | 0/33 [00:00<?, ?it/s]"
          ]
        },
        {
          "name": "stdout",
          "output_type": "stream",
          "text": [
            "EPOCH: 14\n"
          ]
        },
        {
          "name": "stderr",
          "output_type": "stream",
          "text": [
            "Loss=0.0004959826474078 Batch_id=32 Accuracy=99.81: 100%|██████████| 33/33 [00:26<00:00,  1.27it/s]\n",
            "  0%|          | 0/33 [00:00<?, ?it/s]"
          ]
        },
        {
          "name": "stdout",
          "output_type": "stream",
          "text": [
            "EPOCH: 15\n"
          ]
        },
        {
          "name": "stderr",
          "output_type": "stream",
          "text": [
            "Loss=0.000615695200394839 Batch_id=32 Accuracy=99.90: 100%|██████████| 33/33 [00:21<00:00,  1.53it/s]\n",
            "  0%|          | 0/33 [00:00<?, ?it/s]"
          ]
        },
        {
          "name": "stdout",
          "output_type": "stream",
          "text": [
            "EPOCH: 16\n"
          ]
        },
        {
          "name": "stderr",
          "output_type": "stream",
          "text": [
            "Loss=0.017707960680127144 Batch_id=32 Accuracy=100.00: 100%|██████████| 33/33 [00:25<00:00,  1.29it/s]\n",
            "  0%|          | 0/33 [00:00<?, ?it/s]"
          ]
        },
        {
          "name": "stdout",
          "output_type": "stream",
          "text": [
            "EPOCH: 17\n"
          ]
        },
        {
          "name": "stderr",
          "output_type": "stream",
          "text": [
            "Loss=0.0016234677750617266 Batch_id=32 Accuracy=100.00: 100%|██████████| 33/33 [00:21<00:00,  1.53it/s]\n",
            "  0%|          | 0/33 [00:00<?, ?it/s]"
          ]
        },
        {
          "name": "stdout",
          "output_type": "stream",
          "text": [
            "EPOCH: 18\n"
          ]
        },
        {
          "name": "stderr",
          "output_type": "stream",
          "text": [
            "Loss=0.0006213889573700726 Batch_id=32 Accuracy=100.00: 100%|██████████| 33/33 [00:19<00:00,  1.69it/s]\n",
            "  0%|          | 0/33 [00:00<?, ?it/s]"
          ]
        },
        {
          "name": "stdout",
          "output_type": "stream",
          "text": [
            "EPOCH: 19\n"
          ]
        },
        {
          "name": "stderr",
          "output_type": "stream",
          "text": [
            "Loss=0.006464610807597637 Batch_id=32 Accuracy=100.00: 100%|██████████| 33/33 [00:18<00:00,  1.83it/s]\n",
            "  0%|          | 0/33 [00:00<?, ?it/s]"
          ]
        },
        {
          "name": "stdout",
          "output_type": "stream",
          "text": [
            "EPOCH: 20\n"
          ]
        },
        {
          "name": "stderr",
          "output_type": "stream",
          "text": [
            "Loss=0.02137087658047676 Batch_id=32 Accuracy=100.00: 100%|██████████| 33/33 [00:17<00:00,  1.86it/s]\n"
          ]
        }
      ],
      "source": [
        "from my_train import my_train\n",
        "import torch.optim as optim\n",
        "from torch.optim.lr_scheduler import StepLR\n",
        "\n",
        "criterion = torch.nn.CrossEntropyLoss()\n",
        "optimizer = optim.SGD(model.parameters(), lr=0.01, momentum=0.9 ) \n",
        "\n",
        "train = my_train()\n",
        "\n",
        "EPOCHS = 21\n",
        "for epoch in range(EPOCHS):\n",
        "    print(\"EPOCH:\", epoch)\n",
        "    train(model, device, train_loader, optimizer,criterion, epoch)\n",
        "    if(epoch<3):\n",
        "        scheduler = StepLR(optimizer, step_size=5, gamma=0.2)\n",
        "    else:\n",
        "        scheduler = StepLR(optimizer, step_size=5, gamma=0.5)"
      ]
    },
    {
      "cell_type": "code",
      "execution_count": null,
      "metadata": {
        "colab": {},
        "colab_type": "code",
        "id": "V_cdmWkwPf_V"
      },
      "outputs": [],
      "source": []
    }
  ],
  "metadata": {
    "accelerator": "GPU",
    "colab": {
      "collapsed_sections": [],
      "name": "E4P2S4_Face_recog.ipynb",
      "provenance": []
    },
    "kernelspec": {
      "display_name": "Python 3.10.0 64-bit ('3.10.0')",
      "language": "python",
      "name": "python3"
    },
    "language_info": {
      "name": "python",
      "version": "3.10.0"
    },
    "vscode": {
      "interpreter": {
        "hash": "02f044a55c8fde8e84f81df4b8f8cf53825ff4cd2433f11aa25805e9a8041f60"
      }
    }
  },
  "nbformat": 4,
  "nbformat_minor": 0
}
